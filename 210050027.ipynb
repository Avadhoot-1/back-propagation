{
  "nbformat": 4,
  "nbformat_minor": 0,
  "metadata": {
    "colab": {
      "provenance": []
    },
    "kernelspec": {
      "name": "python3",
      "display_name": "Python 3"
    },
    "language_info": {
      "name": "python"
    }
  },
  "cells": [
    {
      "cell_type": "code",
      "execution_count": 1,
      "metadata": {
        "colab": {
          "base_uri": "https://localhost:8080/"
        },
        "id": "_ljV8NIZ0kX1",
        "outputId": "6eecb5fd-53f7-4020-eddc-d7c55126a071"
      },
      "outputs": [
        {
          "output_type": "stream",
          "name": "stdout",
          "text": [
            "Analytical gradients are\n",
            "[[-0.01637912 -0.01637912]\n",
            " [-0.02355449 -0.02355449]]\n",
            "[-0.16504242 -0.16504242]\n",
            "============================================\n",
            "\n",
            "Backpropagated gradient are\n",
            "[[-0.01638029 -0.01638029]\n",
            " [-0.02355442 -0.02355442]]\n",
            "[[-0.16096605 -0.16504206]]\n"
          ]
        }
      ],
      "source": [
        "import numpy as np\n",
        "\n",
        "# Sigmoid activation function\n",
        "def sigmoid(x):\n",
        "    return 1 / (1 + np.exp(-x))\n",
        "\n",
        "# Derivative of sigmoid function\n",
        "def sigmoid_derivative(x):\n",
        "    return x * (1 - x)\n",
        "\n",
        "# Forward pass function\n",
        "def forward_pass(inputs, weights_input_hidden, weights_hidden_output):\n",
        "    hidden_layer_input = np.dot(inputs, weights_input_hidden)\n",
        "    hidden_layer_output = sigmoid(hidden_layer_input)\n",
        "\n",
        "    output_layer_input = np.dot(hidden_layer_output, weights_hidden_output)\n",
        "    output_layer_output = sigmoid(output_layer_input)\n",
        "\n",
        "    return hidden_layer_output, output_layer_output\n",
        "\n",
        "# Backpropagation function\n",
        "def backpropagation(inputs, targets, hidden_layer_output, output_layer_output, weights_input_hidden, weights_hidden_output, learning_rate):\n",
        "    output_error = targets - output_layer_output\n",
        "    output_delta = -1* sigmoid_derivative(output_layer_output)*hidden_layer_output\n",
        "    hidden_delta = -1*sigmoid_derivative(output_layer_output)*(((sigmoid_derivative(hidden_layer_output).T)*weights_hidden_output)@(np.array([1,1]).reshape([1,2])))\n",
        "\n",
        "    return output_delta, hidden_delta\n",
        "\n",
        "# Analytical gradient calculation function\n",
        "def analytical_gradient(inputs, targets, weights_input_hidden, weights_hidden_output):\n",
        "    eps =1e-10\n",
        "    for_w1 = np.array([[eps, 0],[0,0]])\n",
        "    for_w2 = np.array([[0, eps],[0,0]])\n",
        "    for_w3 = np.array([[0, 0],[eps,0]])\n",
        "    for_w4 = np.array([[0, 0],[0,eps]])\n",
        "    for_w5 = np.array([eps, 0]).reshape([2,1])\n",
        "    for_w6 = np.array([0,eps]).reshape([2,1])\n",
        "    dw1 =  ((-forward_pass(inputs, weights_input_hidden + for_w1, weights_hidden_output)[1][0][0] + forward_pass(inputs, weights_input_hidden, weights_hidden_output)[1][0][0]))/eps\n",
        "    dw2 =  ((-forward_pass(inputs, weights_input_hidden + for_w2, weights_hidden_output)[1][0][0] + forward_pass(inputs, weights_input_hidden, weights_hidden_output)[1][0][0]))/eps\n",
        "    dw3 =  ((-forward_pass(inputs, weights_input_hidden + for_w3, weights_hidden_output)[1][0][0] + forward_pass(inputs, weights_input_hidden, weights_hidden_output)[1][0][0]))/eps\n",
        "    dw4 =  ((-forward_pass(inputs, weights_input_hidden + for_w4, weights_hidden_output)[1][0][0] + forward_pass(inputs, weights_input_hidden, weights_hidden_output)[1][0][0]))/eps\n",
        "    dw5 =  ((-forward_pass(inputs, weights_input_hidden , weights_hidden_output + for_w6)[1][0][0] + forward_pass(inputs, weights_input_hidden, weights_hidden_output)[1][0][0]))/eps\n",
        "    dw6 =  ((-forward_pass(inputs, weights_input_hidden , weights_hidden_output + for_w6)[1][0][0] + forward_pass(inputs, weights_input_hidden, weights_hidden_output)[1][0][0]))/eps\n",
        "    output_delta = np.array([dw5, dw6])\n",
        "    hidden_delta = np.array([[dw1, dw3],[dw2,dw4]])\n",
        "    return  hidden_delta, output_delta\n",
        "# Initialize random weights\n",
        "np.random.seed(0)\n",
        "weights_input_hidden = np.random.rand(2, 2)\n",
        "weights_hidden_output = np.random.rand(2, 1)\n",
        "\n",
        "# Input and target\n",
        "inputs = np.array([[1, 1]])\n",
        "targets = np.array([[1]])\n",
        "\n",
        "# Learning rate\n",
        "learning_rate = 0.1\n",
        "\n",
        "# Training loop\n",
        "hidden_layer_output, output_layer_output = forward_pass(inputs, weights_input_hidden, weights_hidden_output)\n",
        "back_delta_out, back_delta_hidd = backpropagation(inputs, targets, hidden_layer_output, output_layer_output, weights_input_hidden, weights_hidden_output, learning_rate)\n",
        "\n",
        "# Analytical gradients\n",
        "analytical_gradients_input_hidden, analytical_gradients_hidden_output = analytical_gradient(inputs, targets, weights_input_hidden, weights_hidden_output)\n",
        "\n",
        "# Print the gradients\n",
        "print(\"Analytical gradients are\")\n",
        "print(analytical_gradients_input_hidden)\n",
        "print(analytical_gradients_hidden_output)\n",
        "print(\"============================================\")\n",
        "print(\"\\nBackpropagated gradient are\")\n",
        "print(back_delta_hidd)\n",
        "print(back_delta_out)\n"
      ]
    }
  ]
}